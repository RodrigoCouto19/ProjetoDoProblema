{
  "cells": [
    {
      "metadata": {
        "collapsed": true
      },
      "cell_type": "markdown",
      "source": "#Projeto do Problema"
    },
    {
      "metadata": {},
      "cell_type": "markdown",
      "source": "Depois de pensarmos muito, decidimos mesclar um pouco de cada problema que apresentamos e chegamos a um possivel tema para o projeto. Pegamos o problema da insegurança nos ônibus e também a falta de praticidade na hora de recarregar seu cartao de passagem ou ate a perda do mesmo.\n\n"
    }
  ],
  "metadata": {
    "kernelspec": {
      "name": "python36",
      "display_name": "Python 3.6",
      "language": "python"
    },
    "language_info": {
      "mimetype": "text/x-python",
      "nbconvert_exporter": "python",
      "name": "python",
      "pygments_lexer": "ipython3",
      "version": "3.6.6",
      "file_extension": ".py",
      "codemirror_mode": {
        "version": 3,
        "name": "ipython"
      }
    }
  },
  "nbformat": 4,
  "nbformat_minor": 2
}
