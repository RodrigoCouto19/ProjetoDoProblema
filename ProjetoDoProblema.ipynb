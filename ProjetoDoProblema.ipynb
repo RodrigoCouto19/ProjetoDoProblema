{
  "cells": [
    {
      "metadata": {
        "collapsed": true
      },
      "cell_type": "markdown",
      "source": "#Projeto do Problema"
    },
    {
      "metadata": {},
      "cell_type": "markdown",
      "source": "1º. O problema seria a respeito das filas grandes em postos de recarga de cartão de transporte, Por exemplo: Uma vez por mês temos que ir à um posto de recarga para colocar saldo no cartão de passagem, porém nos deparamos com filas muito grandes, e para recarregar o cartão irá levar um bom tempo devido a superlotação.\n\n2º. Vemos hoje em dia, muitas noticias de pessoas que foram presas ,sendo soltas quase que imediatamente pelo simples fato de não estarem portando documentos. Com isso falam nomes falsos e como não consta nada de irregular na ficha, são liberados\n\nDepois de pensarmos muito, decidimos mesclar um pouco de cada problema que apresentamos e chegamos a um possivel tema para o projeto. Pegamos o problema da insegurança nos ônibus e também a falta de praticidade na hora de recarregar seu cartao de passagem ou ate a perda do mesmo.\n\n\n\n"
    }
  ],
  "metadata": {
    "kernelspec": {
      "name": "python36",
      "display_name": "Python 3.6",
      "language": "python"
    },
    "language_info": {
      "mimetype": "text/x-python",
      "nbconvert_exporter": "python",
      "name": "python",
      "pygments_lexer": "ipython3",
      "version": "3.6.6",
      "file_extension": ".py",
      "codemirror_mode": {
        "version": 3,
        "name": "ipython"
      }
    }
  },
  "nbformat": 4,
  "nbformat_minor": 2
}